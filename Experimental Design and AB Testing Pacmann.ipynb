{
 "cells": [
  {
   "cell_type": "markdown",
   "id": "eaf4ba43",
   "metadata": {},
   "source": [
    "# Project: Experimental Design and A/B Testing"
   ]
  },
  {
   "cell_type": "markdown",
   "id": "6d46da14",
   "metadata": {},
   "source": [
    "**Bogor, 3rd July 2023**"
   ]
  },
  {
   "cell_type": "markdown",
   "id": "57ef3635",
   "metadata": {},
   "source": [
    "---"
   ]
  },
  {
   "cell_type": "markdown",
   "id": "6c3ba23e",
   "metadata": {},
   "source": [
    "# 1. Introduction and Background"
   ]
  },
  {
   "cell_type": "markdown",
   "id": "e18ee51a",
   "metadata": {},
   "source": [
    "**Marketing Campaign**"
   ]
  },
  {
   "cell_type": "markdown",
   "id": "9f3581a1",
   "metadata": {},
   "source": [
    "Marketing companies want to run successful campaigns. The company's current marketing strategy only relies on Public Service Announcements (PSA). The company has a new strategy which is ads. However, the company is still unsure whether the ad will succeed in increasing user conversions or not. Therefor, we will to do A/B testing to compare PSA and ads."
   ]
  },
  {
   "cell_type": "markdown",
   "id": "52fb508c",
   "metadata": {},
   "source": [
    "# 2. Setting Up Probem\n",
    "---"
   ]
  },
  {
   "cell_type": "markdown",
   "id": "b252bca8",
   "metadata": {},
   "source": [
    "## 2.1. Experiment Goal"
   ]
  },
  {
   "cell_type": "markdown",
   "id": "f0568a60",
   "metadata": {},
   "source": [
    "Experiment Goal : membandingkan pengaruh Public Service Announcements (PSA) dan ads terhadap conversions rate. Sehingga menjadi pertimbangan marketing companies untuk menyukseskan campaigns."
   ]
  },
  {
   "cell_type": "markdown",
   "id": "5c181ccf",
   "metadata": {},
   "source": [
    "## 2.2. Choosing Metrics"
   ]
  },
  {
   "cell_type": "markdown",
   "id": "eb9b7981",
   "metadata": {},
   "source": [
    "**Driver Metrics** :\n",
    "\n",
    "    Conversion Rate\n",
    "\n",
    "Notes:\n",
    "Metric ini memperlihakan persentase user yang converted pada masing-masing kelompok. Sehingga untuk memperoleh Conversion Rate dihitungan dengan membagi total user yang converted dengan total user pada masing-masing kategori. "
   ]
  },
  {
   "cell_type": "markdown",
   "id": "ca8f1f4a",
   "metadata": {},
   "source": [
    "**Guardrail Metrics** : \n",
    "\n",
    "    Simple Ratio Mismatch\n",
    "\n",
    "Notes:\n",
    "Guardial metrics digunakan sebagai alert terhadap potensi misleading atau hasil experiment yang salah."
   ]
  },
  {
   "cell_type": "markdown",
   "id": "9a4fa835",
   "metadata": {},
   "source": [
    "## 2.3. Define Variants"
   ]
  },
  {
   "cell_type": "markdown",
   "id": "168ddb2c",
   "metadata": {},
   "source": [
    "**Control** : Public Service Announcements\n",
    "    \n",
    "**Tretament** : Creative Ads dengan tombol CTA yang bertuliskan \"Get Started Now\" untuk menarik perharian kostumer"
   ]
  },
  {
   "cell_type": "markdown",
   "id": "cdc94b41",
   "metadata": {},
   "source": [
    "## 2.4. Define Hypotesis"
   ]
  },
  {
   "cell_type": "markdown",
   "id": "2766cd9b",
   "metadata": {},
   "source": [
    "Didefinisikan:\n",
    "\n",
    "- $CR_{\\text{old}}$ : Conversion Rate pada **control** (PSA)\n",
    "- $CR_{\\text{new}}$ : Conversion Rate pada **treatment** (ads)\n",
    "\n",
    "Maka definisi dari Null hypothesis ($H_0$) dan Alternative hypothesis ($H_1$)\n",
    "\n",
    "$$H_0 : CR_{\\text{new}} ≤ CR_{\\text{old}}$$\n",
    "$$H_1 : CR_{\\text{new}} > CR_{\\text{old}}$$"
   ]
  },
  {
   "cell_type": "markdown",
   "id": "3395f063",
   "metadata": {},
   "source": [
    "# 3. Designing Experiments\n",
    "---"
   ]
  },
  {
   "cell_type": "markdown",
   "id": "a333b85c",
   "metadata": {},
   "source": [
    "## 3.1. Randomization Unit"
   ]
  },
  {
   "cell_type": "markdown",
   "id": "5cceda80",
   "metadata": {},
   "source": [
    "Orang yang berkunjung ke website"
   ]
  },
  {
   "cell_type": "markdown",
   "id": "a94a2594",
   "metadata": {},
   "source": [
    "## 3.2. Target of Randomization Unit"
   ]
  },
  {
   "cell_type": "markdown",
   "id": "4b14dbe6",
   "metadata": {},
   "source": [
    "Orang yang berkunjung ke website dan **converted**"
   ]
  },
  {
   "cell_type": "markdown",
   "id": "ac8354c2",
   "metadata": {},
   "source": [
    "## 3.3. Sample Size"
   ]
  },
  {
   "cell_type": "markdown",
   "id": "4bb69fe3",
   "metadata": {},
   "source": [
    "Diasumsikan:\n",
    "- significant level = 5%\n",
    "- power = 80%\n",
    "- standard deviation of population = 5\n",
    "- difference between control and treatment = 1% (agar lebih profitable, diharapkan conversion rate naik 1%)"
   ]
  },
  {
   "cell_type": "markdown",
   "id": "c90b8afd",
   "metadata": {},
   "source": [
    "**Formula** untuk menghitung sample size:\n",
    "\n",
    "$$\n",
    "n = \\cfrac{2 σ^2 (z_{1-α/2}+z_{1-β})^2}{δ^2}\n",
    "$$\n",
    "\n",
    "\n",
    "  - $n$ is sample size in each group \n",
    "  - $σ$ is standard deviation of the outcome variable\n",
    "  - $δ$ is difference between two variance\n",
    "  - $z_{1-α/2}$ represents the desired level of statistical significance\n",
    "  - $z_{1-β}$ represents the desired power"
   ]
  },
  {
   "cell_type": "markdown",
   "id": "9357b15a",
   "metadata": {},
   "source": [
    "Berdasarkan significant level sebesar 5% dan power sebesar 80%, sample size dapat dihitung dengan menggunakan **formula** sebagai berikut: \n",
    "\n",
    "$$\n",
    "n = \\cfrac{16 σ^2 }{δ^2}\n",
    "$$\n",
    "\n",
    "  - $n$ is sample size in each group \n",
    "  - $σ$ is standard deviation of the outcome variable\n",
    "  - $δ$ is difference between two variance"
   ]
  },
  {
   "cell_type": "code",
   "execution_count": 1,
   "id": "37e33961",
   "metadata": {},
   "outputs": [
    {
     "data": {
      "text/plain": [
       "11200.0"
      ]
     },
     "execution_count": 1,
     "metadata": {},
     "output_type": "execute_result"
    }
   ],
   "source": [
    "σ = 5\n",
    "δ = 0.01\n",
    "\n",
    "n = (16*(σ^2))/(δ)\n",
    "n"
   ]
  },
  {
   "cell_type": "markdown",
   "id": "868487bc",
   "metadata": {},
   "source": [
    "Sample size pada satu group yaitu 11.200\n",
    "karena terdapat **dua group** yaitu control dan treatment, maka total sample size yaitu 22.400"
   ]
  },
  {
   "cell_type": "markdown",
   "id": "ca016418",
   "metadata": {},
   "source": [
    "## 3.4. How Long Run Experiment"
   ]
  },
  {
   "cell_type": "markdown",
   "id": "fd147f94",
   "metadata": {},
   "source": [
    "Berdasarkan traffic data, experiment akan dijalankan selama 14 hari dengan menghindari efek day-of-week.\n",
    "\n",
    "Note:\n",
    "diasumsikan rata-rata user per hari 2.240"
   ]
  },
  {
   "cell_type": "markdown",
   "id": "b71befd4",
   "metadata": {},
   "source": [
    "# 4. Running Experiment and Obtaining Data\n",
    "---"
   ]
  },
  {
   "cell_type": "markdown",
   "id": "128f45e8",
   "metadata": {},
   "source": [
    "Berdasarkan hasil experiment selama 14 hari diperoleh data sebagai berikut:"
   ]
  },
  {
   "cell_type": "code",
   "execution_count": 2,
   "id": "23607522",
   "metadata": {},
   "outputs": [
    {
     "name": "stderr",
     "output_type": "stream",
     "text": [
      "c:\\users\\aiforesee\\appdata\\local\\programs\\python\\python38\\lib\\site-packages\\numpy\\_distributor_init.py:30: UserWarning: loaded more than 1 DLL from .libs:\n",
      "c:\\users\\aiforesee\\appdata\\local\\programs\\python\\python38\\lib\\site-packages\\numpy\\.libs\\libopenblas.jpijnswnnan3ce6lli5fwsphut2vxmth.gfortran-win_amd64.dll\n",
      "c:\\users\\aiforesee\\appdata\\local\\programs\\python\\python38\\lib\\site-packages\\numpy\\.libs\\libopenblas.PYQHXLVVQ7VESDPUVUADXEVJOBGHJPAY.gfortran-win_amd64.dll\n",
      "  warnings.warn(\"loaded more than 1 DLL from .libs:\"\n"
     ]
    },
    {
     "data": {
      "text/html": [
       "<div>\n",
       "<style scoped>\n",
       "    .dataframe tbody tr th:only-of-type {\n",
       "        vertical-align: middle;\n",
       "    }\n",
       "\n",
       "    .dataframe tbody tr th {\n",
       "        vertical-align: top;\n",
       "    }\n",
       "\n",
       "    .dataframe thead th {\n",
       "        text-align: right;\n",
       "    }\n",
       "</style>\n",
       "<table border=\"1\" class=\"dataframe\">\n",
       "  <thead>\n",
       "    <tr style=\"text-align: right;\">\n",
       "      <th></th>\n",
       "      <th>Unnamed: 0</th>\n",
       "      <th>user id</th>\n",
       "      <th>test group</th>\n",
       "      <th>converted</th>\n",
       "      <th>total ads</th>\n",
       "      <th>most ads day</th>\n",
       "      <th>most ads hour</th>\n",
       "    </tr>\n",
       "  </thead>\n",
       "  <tbody>\n",
       "    <tr>\n",
       "      <th>588096</th>\n",
       "      <td>588096</td>\n",
       "      <td>1278437</td>\n",
       "      <td>ad</td>\n",
       "      <td>False</td>\n",
       "      <td>1</td>\n",
       "      <td>Tuesday</td>\n",
       "      <td>23</td>\n",
       "    </tr>\n",
       "    <tr>\n",
       "      <th>588097</th>\n",
       "      <td>588097</td>\n",
       "      <td>1327975</td>\n",
       "      <td>ad</td>\n",
       "      <td>False</td>\n",
       "      <td>1</td>\n",
       "      <td>Tuesday</td>\n",
       "      <td>23</td>\n",
       "    </tr>\n",
       "    <tr>\n",
       "      <th>588098</th>\n",
       "      <td>588098</td>\n",
       "      <td>1038442</td>\n",
       "      <td>ad</td>\n",
       "      <td>False</td>\n",
       "      <td>3</td>\n",
       "      <td>Tuesday</td>\n",
       "      <td>23</td>\n",
       "    </tr>\n",
       "    <tr>\n",
       "      <th>588099</th>\n",
       "      <td>588099</td>\n",
       "      <td>1496395</td>\n",
       "      <td>ad</td>\n",
       "      <td>False</td>\n",
       "      <td>1</td>\n",
       "      <td>Tuesday</td>\n",
       "      <td>23</td>\n",
       "    </tr>\n",
       "    <tr>\n",
       "      <th>588100</th>\n",
       "      <td>588100</td>\n",
       "      <td>1237779</td>\n",
       "      <td>ad</td>\n",
       "      <td>False</td>\n",
       "      <td>1</td>\n",
       "      <td>Tuesday</td>\n",
       "      <td>23</td>\n",
       "    </tr>\n",
       "  </tbody>\n",
       "</table>\n",
       "</div>"
      ],
      "text/plain": [
       "        Unnamed: 0  user id test group  converted  total ads most ads day  \\\n",
       "588096      588096  1278437         ad      False          1      Tuesday   \n",
       "588097      588097  1327975         ad      False          1      Tuesday   \n",
       "588098      588098  1038442         ad      False          3      Tuesday   \n",
       "588099      588099  1496395         ad      False          1      Tuesday   \n",
       "588100      588100  1237779         ad      False          1      Tuesday   \n",
       "\n",
       "        most ads hour  \n",
       "588096             23  \n",
       "588097             23  \n",
       "588098             23  \n",
       "588099             23  \n",
       "588100             23  "
      ]
     },
     "execution_count": 2,
     "metadata": {},
     "output_type": "execute_result"
    }
   ],
   "source": [
    "import pandas as pd\n",
    "import numpy as np\n",
    "\n",
    "# read csv\n",
    "df = pd.read_csv('marketing/marketing_AB.csv')\n",
    "df.tail()"
   ]
  },
  {
   "cell_type": "code",
   "execution_count": 3,
   "id": "3b52a9d2",
   "metadata": {},
   "outputs": [
    {
     "data": {
      "text/html": [
       "<div>\n",
       "<style scoped>\n",
       "    .dataframe tbody tr th:only-of-type {\n",
       "        vertical-align: middle;\n",
       "    }\n",
       "\n",
       "    .dataframe tbody tr th {\n",
       "        vertical-align: top;\n",
       "    }\n",
       "\n",
       "    .dataframe thead th {\n",
       "        text-align: right;\n",
       "    }\n",
       "</style>\n",
       "<table border=\"1\" class=\"dataframe\">\n",
       "  <thead>\n",
       "    <tr style=\"text-align: right;\">\n",
       "      <th></th>\n",
       "      <th>Unnamed: 0</th>\n",
       "      <th>user id</th>\n",
       "      <th>test group</th>\n",
       "      <th>converted</th>\n",
       "      <th>total ads</th>\n",
       "      <th>most ads day</th>\n",
       "      <th>most ads hour</th>\n",
       "    </tr>\n",
       "  </thead>\n",
       "  <tbody>\n",
       "    <tr>\n",
       "      <th>0</th>\n",
       "      <td>9</td>\n",
       "      <td>1446284</td>\n",
       "      <td>ad</td>\n",
       "      <td>False</td>\n",
       "      <td>142</td>\n",
       "      <td>Monday</td>\n",
       "      <td>14</td>\n",
       "    </tr>\n",
       "    <tr>\n",
       "      <th>1</th>\n",
       "      <td>13</td>\n",
       "      <td>1037215</td>\n",
       "      <td>ad</td>\n",
       "      <td>False</td>\n",
       "      <td>40</td>\n",
       "      <td>Friday</td>\n",
       "      <td>13</td>\n",
       "    </tr>\n",
       "    <tr>\n",
       "      <th>2</th>\n",
       "      <td>18</td>\n",
       "      <td>900681</td>\n",
       "      <td>psa</td>\n",
       "      <td>False</td>\n",
       "      <td>248</td>\n",
       "      <td>Saturday</td>\n",
       "      <td>19</td>\n",
       "    </tr>\n",
       "    <tr>\n",
       "      <th>3</th>\n",
       "      <td>68</td>\n",
       "      <td>904595</td>\n",
       "      <td>psa</td>\n",
       "      <td>False</td>\n",
       "      <td>13</td>\n",
       "      <td>Tuesday</td>\n",
       "      <td>19</td>\n",
       "    </tr>\n",
       "    <tr>\n",
       "      <th>4</th>\n",
       "      <td>99</td>\n",
       "      <td>1550138</td>\n",
       "      <td>ad</td>\n",
       "      <td>False</td>\n",
       "      <td>9</td>\n",
       "      <td>Tuesday</td>\n",
       "      <td>19</td>\n",
       "    </tr>\n",
       "    <tr>\n",
       "      <th>...</th>\n",
       "      <td>...</td>\n",
       "      <td>...</td>\n",
       "      <td>...</td>\n",
       "      <td>...</td>\n",
       "      <td>...</td>\n",
       "      <td>...</td>\n",
       "      <td>...</td>\n",
       "    </tr>\n",
       "    <tr>\n",
       "      <th>22395</th>\n",
       "      <td>587961</td>\n",
       "      <td>1455175</td>\n",
       "      <td>ad</td>\n",
       "      <td>False</td>\n",
       "      <td>15</td>\n",
       "      <td>Tuesday</td>\n",
       "      <td>22</td>\n",
       "    </tr>\n",
       "    <tr>\n",
       "      <th>22396</th>\n",
       "      <td>588020</td>\n",
       "      <td>912634</td>\n",
       "      <td>psa</td>\n",
       "      <td>False</td>\n",
       "      <td>2</td>\n",
       "      <td>Tuesday</td>\n",
       "      <td>22</td>\n",
       "    </tr>\n",
       "    <tr>\n",
       "      <th>22397</th>\n",
       "      <td>588050</td>\n",
       "      <td>922728</td>\n",
       "      <td>psa</td>\n",
       "      <td>False</td>\n",
       "      <td>1</td>\n",
       "      <td>Tuesday</td>\n",
       "      <td>22</td>\n",
       "    </tr>\n",
       "    <tr>\n",
       "      <th>22398</th>\n",
       "      <td>588052</td>\n",
       "      <td>900959</td>\n",
       "      <td>psa</td>\n",
       "      <td>False</td>\n",
       "      <td>16</td>\n",
       "      <td>Tuesday</td>\n",
       "      <td>22</td>\n",
       "    </tr>\n",
       "    <tr>\n",
       "      <th>22399</th>\n",
       "      <td>588053</td>\n",
       "      <td>1467660</td>\n",
       "      <td>ad</td>\n",
       "      <td>False</td>\n",
       "      <td>2</td>\n",
       "      <td>Tuesday</td>\n",
       "      <td>22</td>\n",
       "    </tr>\n",
       "  </tbody>\n",
       "</table>\n",
       "<p>22400 rows × 7 columns</p>\n",
       "</div>"
      ],
      "text/plain": [
       "       Unnamed: 0  user id test group  converted  total ads most ads day  \\\n",
       "0               9  1446284         ad      False        142       Monday   \n",
       "1              13  1037215         ad      False         40       Friday   \n",
       "2              18   900681        psa      False        248     Saturday   \n",
       "3              68   904595        psa      False         13      Tuesday   \n",
       "4              99  1550138         ad      False          9      Tuesday   \n",
       "...           ...      ...        ...        ...        ...          ...   \n",
       "22395      587961  1455175         ad      False         15      Tuesday   \n",
       "22396      588020   912634        psa      False          2      Tuesday   \n",
       "22397      588050   922728        psa      False          1      Tuesday   \n",
       "22398      588052   900959        psa      False         16      Tuesday   \n",
       "22399      588053  1467660         ad      False          2      Tuesday   \n",
       "\n",
       "       most ads hour  \n",
       "0                 14  \n",
       "1                 13  \n",
       "2                 19  \n",
       "3                 19  \n",
       "4                 19  \n",
       "...              ...  \n",
       "22395             22  \n",
       "22396             22  \n",
       "22397             22  \n",
       "22398             22  \n",
       "22399             22  \n",
       "\n",
       "[22400 rows x 7 columns]"
      ]
     },
     "execution_count": 3,
     "metadata": {},
     "output_type": "execute_result"
    }
   ],
   "source": [
    "# random sampling pada masing-masing variant\n",
    "df = pd.concat([\n",
    "    df[df['test group'] == 'psa'].sample(n=int(n), random_state=1),\n",
    "    df[df['test group'] == 'ad'].sample(n=int(n), random_state=1) \n",
    "]).sort_values('Unnamed: 0').reset_index(drop=True)\n",
    "df"
   ]
  },
  {
   "cell_type": "markdown",
   "id": "869cd057",
   "metadata": {},
   "source": [
    "# 5. Analyzing and Interpreting the Data\n",
    "---"
   ]
  },
  {
   "cell_type": "markdown",
   "id": "6159e105",
   "metadata": {},
   "source": [
    "## Ensure the Trustworthiness"
   ]
  },
  {
   "cell_type": "markdown",
   "id": "09c06d56",
   "metadata": {},
   "source": [
    "### Check the Data Quality"
   ]
  },
  {
   "cell_type": "code",
   "execution_count": 4,
   "id": "43531e82",
   "metadata": {},
   "outputs": [
    {
     "data": {
      "text/plain": [
       "Unnamed: 0       0\n",
       "user id          0\n",
       "test group       0\n",
       "converted        0\n",
       "total ads        0\n",
       "most ads day     0\n",
       "most ads hour    0\n",
       "dtype: int64"
      ]
     },
     "execution_count": 4,
     "metadata": {},
     "output_type": "execute_result"
    }
   ],
   "source": [
    "# cek missing value\n",
    "df.isna().sum()"
   ]
  },
  {
   "cell_type": "code",
   "execution_count": 5,
   "id": "94b7770e",
   "metadata": {},
   "outputs": [
    {
     "data": {
      "text/plain": [
       "0"
      ]
     },
     "execution_count": 5,
     "metadata": {},
     "output_type": "execute_result"
    }
   ],
   "source": [
    "# cek duplicate data\n",
    "df.duplicated(['user id']).sum()"
   ]
  },
  {
   "cell_type": "code",
   "execution_count": 6,
   "id": "6a560881",
   "metadata": {},
   "outputs": [
    {
     "data": {
      "text/plain": [
       "(22400, 7)"
      ]
     },
     "execution_count": 6,
     "metadata": {},
     "output_type": "execute_result"
    }
   ],
   "source": [
    "# data shape\n",
    "df.shape"
   ]
  },
  {
   "cell_type": "markdown",
   "id": "278cf9a1",
   "metadata": {},
   "source": [
    "### Data Exploration"
   ]
  },
  {
   "cell_type": "markdown",
   "id": "bfeb2efc",
   "metadata": {},
   "source": [
    "Karena kita ingin mengetahui conversion rate, isi tabel berikut!\n",
    "\n",
    "<center>\n",
    "\n",
    "|Group|#User|#Converted|Conversion Rate\n",
    "|:--|:--:|:--:|:--:|\n",
    "|Control|-|-|-|\n",
    "|Treatment|-|-|-|\n",
    "\n",
    "</center>"
   ]
  },
  {
   "cell_type": "code",
   "execution_count": 7,
   "id": "7da3512b",
   "metadata": {},
   "outputs": [
    {
     "data": {
      "text/html": [
       "<div>\n",
       "<style scoped>\n",
       "    .dataframe tbody tr th:only-of-type {\n",
       "        vertical-align: middle;\n",
       "    }\n",
       "\n",
       "    .dataframe tbody tr th {\n",
       "        vertical-align: top;\n",
       "    }\n",
       "\n",
       "    .dataframe thead th {\n",
       "        text-align: right;\n",
       "    }\n",
       "</style>\n",
       "<table border=\"1\" class=\"dataframe\">\n",
       "  <thead>\n",
       "    <tr style=\"text-align: right;\">\n",
       "      <th></th>\n",
       "      <th>Unnamed: 0</th>\n",
       "      <th>user id</th>\n",
       "      <th>test group</th>\n",
       "      <th>converted</th>\n",
       "      <th>total ads</th>\n",
       "      <th>most ads day</th>\n",
       "      <th>most ads hour</th>\n",
       "    </tr>\n",
       "  </thead>\n",
       "  <tbody>\n",
       "    <tr>\n",
       "      <th>2</th>\n",
       "      <td>18</td>\n",
       "      <td>900681</td>\n",
       "      <td>psa</td>\n",
       "      <td>False</td>\n",
       "      <td>248</td>\n",
       "      <td>Saturday</td>\n",
       "      <td>19</td>\n",
       "    </tr>\n",
       "    <tr>\n",
       "      <th>3</th>\n",
       "      <td>68</td>\n",
       "      <td>904595</td>\n",
       "      <td>psa</td>\n",
       "      <td>False</td>\n",
       "      <td>13</td>\n",
       "      <td>Tuesday</td>\n",
       "      <td>19</td>\n",
       "    </tr>\n",
       "    <tr>\n",
       "      <th>6</th>\n",
       "      <td>140</td>\n",
       "      <td>901904</td>\n",
       "      <td>psa</td>\n",
       "      <td>False</td>\n",
       "      <td>32</td>\n",
       "      <td>Wednesday</td>\n",
       "      <td>19</td>\n",
       "    </tr>\n",
       "    <tr>\n",
       "      <th>7</th>\n",
       "      <td>157</td>\n",
       "      <td>902234</td>\n",
       "      <td>psa</td>\n",
       "      <td>False</td>\n",
       "      <td>105</td>\n",
       "      <td>Tuesday</td>\n",
       "      <td>19</td>\n",
       "    </tr>\n",
       "    <tr>\n",
       "      <th>8</th>\n",
       "      <td>167</td>\n",
       "      <td>906079</td>\n",
       "      <td>psa</td>\n",
       "      <td>False</td>\n",
       "      <td>37</td>\n",
       "      <td>Monday</td>\n",
       "      <td>10</td>\n",
       "    </tr>\n",
       "  </tbody>\n",
       "</table>\n",
       "</div>"
      ],
      "text/plain": [
       "   Unnamed: 0  user id test group  converted  total ads most ads day  \\\n",
       "2          18   900681        psa      False        248     Saturday   \n",
       "3          68   904595        psa      False         13      Tuesday   \n",
       "6         140   901904        psa      False         32    Wednesday   \n",
       "7         157   902234        psa      False        105      Tuesday   \n",
       "8         167   906079        psa      False         37       Monday   \n",
       "\n",
       "   most ads hour  \n",
       "2             19  \n",
       "3             19  \n",
       "6             19  \n",
       "7             19  \n",
       "8             10  "
      ]
     },
     "execution_count": 7,
     "metadata": {},
     "output_type": "execute_result"
    }
   ],
   "source": [
    "# buat data control (psa)\n",
    "df_control = df[df[\"test group\"] == \"psa\"]\n",
    "\n",
    "df_control.head()"
   ]
  },
  {
   "cell_type": "code",
   "execution_count": 8,
   "id": "bac75703",
   "metadata": {},
   "outputs": [
    {
     "data": {
      "text/html": [
       "<div>\n",
       "<style scoped>\n",
       "    .dataframe tbody tr th:only-of-type {\n",
       "        vertical-align: middle;\n",
       "    }\n",
       "\n",
       "    .dataframe tbody tr th {\n",
       "        vertical-align: top;\n",
       "    }\n",
       "\n",
       "    .dataframe thead th {\n",
       "        text-align: right;\n",
       "    }\n",
       "</style>\n",
       "<table border=\"1\" class=\"dataframe\">\n",
       "  <thead>\n",
       "    <tr style=\"text-align: right;\">\n",
       "      <th></th>\n",
       "      <th>Unnamed: 0</th>\n",
       "      <th>user id</th>\n",
       "      <th>test group</th>\n",
       "      <th>converted</th>\n",
       "      <th>total ads</th>\n",
       "      <th>most ads day</th>\n",
       "      <th>most ads hour</th>\n",
       "    </tr>\n",
       "  </thead>\n",
       "  <tbody>\n",
       "    <tr>\n",
       "      <th>0</th>\n",
       "      <td>9</td>\n",
       "      <td>1446284</td>\n",
       "      <td>ad</td>\n",
       "      <td>False</td>\n",
       "      <td>142</td>\n",
       "      <td>Monday</td>\n",
       "      <td>14</td>\n",
       "    </tr>\n",
       "    <tr>\n",
       "      <th>1</th>\n",
       "      <td>13</td>\n",
       "      <td>1037215</td>\n",
       "      <td>ad</td>\n",
       "      <td>False</td>\n",
       "      <td>40</td>\n",
       "      <td>Friday</td>\n",
       "      <td>13</td>\n",
       "    </tr>\n",
       "    <tr>\n",
       "      <th>4</th>\n",
       "      <td>99</td>\n",
       "      <td>1550138</td>\n",
       "      <td>ad</td>\n",
       "      <td>False</td>\n",
       "      <td>9</td>\n",
       "      <td>Tuesday</td>\n",
       "      <td>19</td>\n",
       "    </tr>\n",
       "    <tr>\n",
       "      <th>5</th>\n",
       "      <td>127</td>\n",
       "      <td>1482863</td>\n",
       "      <td>ad</td>\n",
       "      <td>False</td>\n",
       "      <td>27</td>\n",
       "      <td>Tuesday</td>\n",
       "      <td>20</td>\n",
       "    </tr>\n",
       "    <tr>\n",
       "      <th>16</th>\n",
       "      <td>385</td>\n",
       "      <td>1017353</td>\n",
       "      <td>ad</td>\n",
       "      <td>False</td>\n",
       "      <td>41</td>\n",
       "      <td>Tuesday</td>\n",
       "      <td>19</td>\n",
       "    </tr>\n",
       "  </tbody>\n",
       "</table>\n",
       "</div>"
      ],
      "text/plain": [
       "    Unnamed: 0  user id test group  converted  total ads most ads day  \\\n",
       "0            9  1446284         ad      False        142       Monday   \n",
       "1           13  1037215         ad      False         40       Friday   \n",
       "4           99  1550138         ad      False          9      Tuesday   \n",
       "5          127  1482863         ad      False         27      Tuesday   \n",
       "16         385  1017353         ad      False         41      Tuesday   \n",
       "\n",
       "    most ads hour  \n",
       "0              14  \n",
       "1              13  \n",
       "4              19  \n",
       "5              20  \n",
       "16             19  "
      ]
     },
     "execution_count": 8,
     "metadata": {},
     "output_type": "execute_result"
    }
   ],
   "source": [
    "# buat data treatment (ad)\n",
    "df_treatment = df[df[\"test group\"] == \"ad\"]\n",
    "\n",
    "df_treatment.head()"
   ]
  },
  {
   "cell_type": "code",
   "execution_count": 9,
   "id": "117bc582",
   "metadata": {},
   "outputs": [
    {
     "name": "stdout",
     "output_type": "stream",
     "text": [
      "banyak user control\t:  11200\n",
      "banyak user treatment\t:  11200\n"
     ]
    }
   ],
   "source": [
    "# banyak user pada masing-masing variant\n",
    "n_control = df_control.shape[0]\n",
    "n_treatment = df_treatment.shape[0]\n",
    "\n",
    "print(\"banyak user control\\t: \", n_control)\n",
    "print(\"banyak user treatment\\t: \", n_treatment)"
   ]
  },
  {
   "cell_type": "code",
   "execution_count": 10,
   "id": "ded98c8a",
   "metadata": {},
   "outputs": [
    {
     "name": "stdout",
     "output_type": "stream",
     "text": [
      "banyak user converted pada control\t:  188\n",
      "banyak user converted pada treatment\t:  295\n"
     ]
    }
   ],
   "source": [
    "# banyak user yang converted pada masing-masing variant\n",
    "n_convC = len(df_control[df_control['converted'] == True])\n",
    "n_convT = len(df_treatment[df_treatment['converted'] == True])\n",
    "\n",
    "print(\"banyak user converted pada control\\t: \", n_convC)\n",
    "print(\"banyak user converted pada treatment\\t: \", n_convT)"
   ]
  },
  {
   "cell_type": "code",
   "execution_count": 11,
   "id": "c929708f",
   "metadata": {},
   "outputs": [
    {
     "name": "stdout",
     "output_type": "stream",
     "text": [
      "Conversion Rate control \t: 0.01679\n",
      "Conversion Rate treatment\t: 0.02634\n"
     ]
    }
   ],
   "source": [
    "# Conversion Rate pada masing-masing variant\n",
    "\n",
    "cr_C = n_convC/n_control\n",
    "cr_T = n_convT/n_treatment\n",
    "\n",
    "print(f\"Conversion Rate control \\t: {cr_C:.5f}\")\n",
    "print(f\"Conversion Rate treatment\\t: {cr_T:.5f}\")"
   ]
  },
  {
   "cell_type": "markdown",
   "id": "5c6146bc",
   "metadata": {},
   "source": [
    "Diperoleh tabel sebagai berikut :\n",
    "\n",
    "<center>\n",
    "\n",
    "|Group|#User|#Converted|Conversion Rate\n",
    "|:--|:--:|:--:|:--:|\n",
    "|Control|11200|188|0.01679|\n",
    "|Treatment|11200|295|0.02634|\n",
    "\n",
    "</center>"
   ]
  },
  {
   "cell_type": "code",
   "execution_count": 12,
   "id": "f6ef5ca7",
   "metadata": {},
   "outputs": [
    {
     "name": "stderr",
     "output_type": "stream",
     "text": [
      "<ipython-input-12-4aac45d13f96>:14: UserWarning: FixedFormatter should only be used together with FixedLocator\n",
      "  ax.set_xticklabels(labels=[\"control\", \"treatment\"], fontsize=16)\n"
     ]
    },
    {
     "data": {
      "image/png": "[encoded data removed]",
      "text/plain": [
       "<Figure size 720x504 with 1 Axes>"
      ]
     },
     "metadata": {
      "needs_background": "light"
     },
     "output_type": "display_data"
    }
   ],
   "source": [
    "# visualisasi perbandingan Conversion Rate masing-masing variant\n",
    "\n",
    "import matplotlib.pyplot as plt\n",
    "\n",
    "fig, ax = plt.subplots(nrows=1, ncols=1, figsize=(10, 7))\n",
    "\n",
    "# Buat plot\n",
    "ax.bar(\"control\", cr_C, label=\"Control\")\n",
    "ax.bar(\"treatment\", cr_T, label=\"Treatment\")\n",
    "\n",
    "# Styling plot\n",
    "ax.set_ylabel(\"Conversion Rate\", fontsize=16)\n",
    "ax.set_xlabel(\"Group\", fontsize=16)\n",
    "ax.set_xticklabels(labels=[\"control\", \"treatment\"], fontsize=16)\n",
    "ax.legend(fontsize=16)\n",
    "plt.show()"
   ]
  },
  {
   "cell_type": "markdown",
   "id": "e962e56e",
   "metadata": {},
   "source": [
    "### Chi-Square Test for Detect SRM"
   ]
  },
  {
   "cell_type": "markdown",
   "id": "f6785505",
   "metadata": {},
   "source": [
    "Langkah-langkah melakukan Chi-Square untuk mendeteksi SRM:\n",
    "\n",
    "**1. Definisi null dan alternative hypothesis ($H_0$ and $H_1$)**\n",
    "\n",
    "- $H_0$  : No SRM detected\n",
    "- $H_1$  : SRM detected\n",
    "\n",
    "**2. Menghitung chi-square statistics**\n",
    "\n",
    "$$ \\chi^2 = \\sum \\frac{\\left ( \\text{observed - expected} \\right )^2}{\\text{expected}} $$\n",
    "\n",
    "Dimana :\n",
    "- Observed: the control and variation traffic volumes (sample size), respectively\n",
    "- Expected: the expected values for control and treatment — i.e. the total observed divided by 2\n"
   ]
  },
  {
   "cell_type": "code",
   "execution_count": 13,
   "id": "b962e1f7",
   "metadata": {},
   "outputs": [
    {
     "data": {
      "text/plain": [
       "([11200, 11200], [11200.0, 11200.0])"
      ]
     },
     "execution_count": 13,
     "metadata": {},
     "output_type": "execute_result"
    }
   ],
   "source": [
    "# menghitung observed dan expected\n",
    "observed = [ n_control, n_treatment ]\n",
    "total_traffic= sum(observed)\n",
    "expected = [ total_traffic/2, total_traffic/2 ]\n",
    "\n",
    "observed, expected"
   ]
  },
  {
   "cell_type": "code",
   "execution_count": 14,
   "id": "a90d6edf",
   "metadata": {},
   "outputs": [
    {
     "name": "stdout",
     "output_type": "stream",
     "text": [
      "Power_divergenceResult(statistic=0.0, pvalue=1.0)\n"
     ]
    }
   ],
   "source": [
    "# menghitung chi-square statistics\n",
    "\n",
    "from scipy.stats import chisquare\n",
    "\n",
    "chi = chisquare(observed, f_exp=expected)\n",
    "print(chi)"
   ]
  },
  {
   "cell_type": "markdown",
   "id": "7df2c1c9",
   "metadata": {},
   "source": [
    "**3. Definisi decision rules**\n",
    "\n",
    "Dalam menyimpulkan test, dapat menggunakan rules sebagai berikut:\n",
    "- Membandingkan chi-square statistics dengan critical value\n",
    "     -  $\\chi^2 > \\chi^2_{\\alpha,df}$ → reject $H_0$\n",
    "\n",
    "- Membandingkan p-value dengan alpha\n",
    "   - pvalue < $\\alpha$ → reject $H_0$\n",
    "\n",
    "Dengan degree of freedom (df): \n",
    "$$ df = (rows − 1) × (columns − 1) $$ \n"
   ]
  },
  {
   "cell_type": "code",
   "execution_count": 15,
   "id": "9ffd5a1e",
   "metadata": {},
   "outputs": [
    {
     "name": "stdout",
     "output_type": "stream",
     "text": [
      "Critical value: 6.635\n"
     ]
    }
   ],
   "source": [
    "# critical value adalah chi-square value pada alpha\n",
    "\n",
    "import scipy\n",
    "\n",
    "alpha = 0.01\n",
    "df = (2-1)*(2-1)  \n",
    "\n",
    "chi_critical = scipy.stats.chi2.ppf(1 - alpha, df)\n",
    "print(f\"Critical value: {chi_critical:.3f}\")"
   ]
  },
  {
   "cell_type": "code",
   "execution_count": 16,
   "id": "c953429b",
   "metadata": {},
   "outputs": [
    {
     "name": "stdout",
     "output_type": "stream",
     "text": [
      "Fail to reject H0 : No SRM\n"
     ]
    }
   ],
   "source": [
    "# membandingkan chi-square statistics dengan critical value\n",
    "if chi[0] > chi_critical:\n",
    "  print(\"Reject H0 : SRM may be present.\")\n",
    "else:\n",
    "  print(\"Fail to reject H0 : No SRM\")"
   ]
  },
  {
   "cell_type": "code",
   "execution_count": 17,
   "id": "d09bf727",
   "metadata": {},
   "outputs": [
    {
     "name": "stdout",
     "output_type": "stream",
     "text": [
      "Fail to reject H0 : No SRM\n"
     ]
    }
   ],
   "source": [
    "# membandingkan P-Value dengan alpha.\n",
    "if chi[1] < 0.01:\n",
    "    print('Reject H0 : SRM may be present.')\n",
    "else:\n",
    "    print('Fail to reject H0 : No SRM')"
   ]
  },
  {
   "cell_type": "markdown",
   "id": "bee9675d",
   "metadata": {},
   "source": [
    "Berdasarkan hasil uji Chi-Square dengan significance level 1%, pada data control dan treatment **tidak terdeteksi SRM**."
   ]
  },
  {
   "cell_type": "markdown",
   "id": "280828cc",
   "metadata": {},
   "source": [
    "## Hypotesis Testing"
   ]
  },
  {
   "cell_type": "markdown",
   "id": "e1125c7b",
   "metadata": {},
   "source": [
    "### Mendefinisikan Null Hypothesis ($H_0$) dan Alternative Hypothesis ($H_1$)"
   ]
  },
  {
   "cell_type": "markdown",
   "id": "fac27d96",
   "metadata": {},
   "source": [
    "Kita ingin membuktikan: **conversion rate** pada user dengan treatment **ad** adalah **lebih besat** dari **conversion rate** pada user dengan treatment **psa**\n",
    "\n",
    "\n",
    "- Didefinisikan:\n",
    "\n",
    "    - $CR_{\\text{old}}$ : Conversion Rate pada **control** (PSA)\n",
    "    - $CR_{\\text{new}}$ : Conversion Rate pada **treatment** (ads)\n",
    "\n",
    "\n",
    "- Maka definisi dari Null hypothesis ($H_0$) dan Alternative hypothesis ($H_1$)\n",
    "\n",
    "$$H_0 : CR_{\\text{new}} ≤ CR_{\\text{old}}$$\n",
    "$$H_1 : CR_{\\text{new}} > CR_{\\text{old}}$$\n",
    "\n",
    "- Set siginificance level (alpha)\n",
    " - Significance level = 0.05 "
   ]
  },
  {
   "cell_type": "markdown",
   "id": "5f680b0a",
   "metadata": {},
   "source": [
    "### Menentukan Statistical Test"
   ]
  },
  {
   "cell_type": "code",
   "execution_count": 18,
   "id": "674fce30",
   "metadata": {},
   "outputs": [
    {
     "name": "stdout",
     "output_type": "stream",
     "text": [
      "Z stats : 4.9220\n",
      "P-value : 0.0000\n"
     ]
    }
   ],
   "source": [
    "# import library\n",
    "from statsmodels.stats.proportion import proportions_ztest\n",
    "\n",
    "# buat count converted & total observation\n",
    "count_convert = [n_convT, n_convC]\n",
    "count_observation = [n_treatment, n_control]\n",
    "\n",
    "# buat alternative\n",
    "alternative_option = \"larger\"\n",
    "\n",
    "# hitung z statistik dan p-value\n",
    "z_stat, p_value = proportions_ztest(count = count_convert,\n",
    "                                    nobs = count_observation,\n",
    "                                    alternative = alternative_option)\n",
    "\n",
    "print(f\"Z stats : {z_stat:.4f}\")\n",
    "print(f\"P-value : {p_value:.4f}\")"
   ]
  },
  {
   "cell_type": "markdown",
   "id": "096ce617",
   "metadata": {},
   "source": [
    "### Membuat Aturan Keputusan"
   ]
  },
  {
   "cell_type": "code",
   "execution_count": 19,
   "id": "f901aa4c",
   "metadata": {},
   "outputs": [
    {
     "name": "stdout",
     "output_type": "stream",
     "text": [
      "z critical value : 1.6449\n"
     ]
    }
   ],
   "source": [
    "from scipy import stats\n",
    "\n",
    "# critical value\n",
    "alpha= 0.05\n",
    "z_crit = stats.norm.ppf(1-alpha)\n",
    "\n",
    "print(f\"z critical value : {z_crit:.4f}\")"
   ]
  },
  {
   "cell_type": "code",
   "execution_count": 20,
   "id": "4364fe44",
   "metadata": {},
   "outputs": [
    {
     "name": "stdout",
     "output_type": "stream",
     "text": [
      "Decision : Reject Null Hypothesis\n"
     ]
    }
   ],
   "source": [
    "# melakukan pengambilan keputusan dari z-stats dan z-crit\n",
    "if z_stat > z_crit:\n",
    "  print(\"Decision : Reject Null Hypothesis\")\n",
    "else:\n",
    "  print(\"Decision : Fail to Reject Null Hypothesis\")"
   ]
  },
  {
   "cell_type": "code",
   "execution_count": 21,
   "id": "52575f09",
   "metadata": {},
   "outputs": [
    {
     "name": "stdout",
     "output_type": "stream",
     "text": [
      "Decision : Reject Null Hypothesis\n"
     ]
    }
   ],
   "source": [
    "# perbandingan P-Value dengan alpha.\n",
    "if p_value < 0.05:\n",
    "  print(\"Decision : Reject Null Hypothesis\")\n",
    "else:\n",
    "  print(\"Decision : Fail to Reject Null Hypothesis\")"
   ]
  },
  {
   "cell_type": "markdown",
   "id": "fb080c9e",
   "metadata": {},
   "source": [
    "### Visualisasi"
   ]
  },
  {
   "cell_type": "code",
   "execution_count": 22,
   "id": "949765fd",
   "metadata": {},
   "outputs": [
    {
     "data": {
      "image/png": "[encoded data removed]",
      "text/plain": [
       "<Figure size 720x504 with 1 Axes>"
      ]
     },
     "metadata": {
      "needs_background": "light"
     },
     "output_type": "display_data"
    },
    {
     "name": "stdout",
     "output_type": "stream",
     "text": [
      "z statistics : 4.9220\n",
      "z critical : 1.6449\n"
     ]
    }
   ],
   "source": [
    "fig = plt.subplots(nrows=1, ncols=1, figsize=(10, 7))\n",
    "\n",
    "# plot sample distribution \n",
    "x = np.arange(-7, 7, 0.1)\n",
    "plt.plot(x, stats.norm.pdf(x, 0, 2), \n",
    "         color='blue')\n",
    "\n",
    "# plot alpha region\n",
    "x_alpha = np.arange(z_crit,6, 0.1)\n",
    "y_alpha = stats.norm.pdf(x_alpha, 0, 2)\n",
    "plt.fill_between(x = x_alpha, \n",
    "                 y1 = y_alpha,\n",
    "                 facecolor = 'red',\n",
    "                 alpha = 0.35, \n",
    "                 label = 'alpha')\n",
    "\n",
    "# plot pvalue\n",
    "x_pvalue = np.arange(z_stat,6, 0.1)\n",
    "y_pvalue = stats.norm.pdf(x_pvalue, 0, 2)\n",
    "plt.fill_between(x = x_pvalue, \n",
    "                 y1 = y_pvalue,\n",
    "                 facecolor = 'green',\n",
    "                 alpha = 0.35, \n",
    "                 label = 'pvalue')\n",
    "\n",
    "# plot z-crit and z-stats\n",
    "plt.axvline(np.round(z_stat, 6), \n",
    "            color =\"green\", \n",
    "            linestyle = \"--\", \n",
    "            label =\"z-stat\")\n",
    "\n",
    "plt.axvline(z_crit, \n",
    "            color =\"red\", \n",
    "            linestyle = \"--\", \n",
    "            label =\"z-crit\")\n",
    "\n",
    "plt.legend()\n",
    "plt.xlabel(\"z\")\n",
    "plt.ylabel(\"density\")\n",
    "plt.show()\n",
    "\n",
    "print(f\"z statistics : {z_stat:.4f}\")\n",
    "print(f\"z critical : {z_crit:.4f}\")"
   ]
  },
  {
   "attachments": {},
   "cell_type": "markdown",
   "id": "ecfa3fe4",
   "metadata": {},
   "source": [
    "Dengan level signifikansi 5%, terdapat cukup bukti bahwa conversion rate di **treatment** (ads) **lebih besar** dibandingkan conversion rate di **control** (PSA)"
   ]
  },
  {
   "cell_type": "markdown",
   "id": "75f7c5aa",
   "metadata": {},
   "source": [
    "## Confidence Interval"
   ]
  },
  {
   "cell_type": "code",
   "execution_count": 23,
   "id": "eac25e55",
   "metadata": {},
   "outputs": [
    {
     "name": "stdout",
     "output_type": "stream",
     "text": [
      "(0.005760817630394233, 0.013392045872390842)\n"
     ]
    }
   ],
   "source": [
    "from statsmodels.stats.proportion import confint_proportions_2indep\n",
    "\n",
    "# menghitung confidene interval untuk proporsi\n",
    "confidence_interval = confint_proportions_2indep(count1 = n_convT, \n",
    "                                                 nobs1 = n_treatment,\n",
    "                                                 count2 = n_convC, \n",
    "                                                 nobs2 = n_control, \n",
    "                                                 compare='diff', alpha=0.05)\n",
    "print(confidence_interval)"
   ]
  },
  {
   "cell_type": "markdown",
   "id": "b09771e3",
   "metadata": {},
   "source": [
    "Berdasarkan hasil tersebut, kita yakin 95% bahwa selisih atau difference proporsi user yang convert (Conversion Rate) pada grup treatment (ad) dan kontrol (psa) terletak antara 0.00576 dan 0.01339.\n",
    "\n",
    "Atau dapat dikatakan bahwa peningkatan **Conversion Rate** dengan campaign **ad** (treatment) **meningkat** sebesar **0.00576 dan 0.01339**."
   ]
  },
  {
   "cell_type": "markdown",
   "id": "b03647b8",
   "metadata": {},
   "source": [
    "# Conclusion and Recommendation\n",
    "---"
   ]
  },
  {
   "cell_type": "markdown",
   "id": "9308c35d",
   "metadata": {},
   "source": [
    "**Conclusion**:\n",
    "\n",
    "Dengan tingkat keyakinan 95%, terdapat cukup bukti bahwa **Conversion Rate** dengan campaign **ad** (treatment) **lebih tinggi** dibandingkan dengan campaign **psa** (control)."
   ]
  },
  {
   "cell_type": "markdown",
   "id": "ee7f0189",
   "metadata": {},
   "source": [
    "**Rekomendasi untuk Marketing**: \n",
    "\n",
    "Berdasarkan hasil statistical test hasilnya adalah statistically significant. Namun untuk membuat keputusan apakah akan akan menggunakan ad tidak, **harus dipastikan apakah secara practically sigificant** seperti biaya ad, biaya maintanance dll tidak rugi dengan **uplift sebesar 0.00576 dan 0.01339**.\n"
   ]
  },
  {
   "cell_type": "code",
   "execution_count": null,
   "id": "07efae7b",
   "metadata": {},
   "outputs": [],
   "source": []
  }
 ],
 "metadata": {
  "kernelspec": {
   "display_name": "Python 3",
   "language": "python",
   "name": "python3"
  },
  "language_info": {
   "codemirror_mode": {
    "name": "ipython",
    "version": 3
   },
   "file_extension": ".py",
   "mimetype": "text/x-python",
   "name": "python",
   "nbconvert_exporter": "python",
   "pygments_lexer": "ipython3",
   "version": "3.8.5"
  },
  "toc": {
   "base_numbering": 1,
   "nav_menu": {},
   "number_sections": true,
   "sideBar": true,
   "skip_h1_title": false,
   "title_cell": "Table of Contents",
   "title_sidebar": "Contents",
   "toc_cell": false,
   "toc_position": {},
   "toc_section_display": true,
   "toc_window_display": false
  }
 },
 "nbformat": 4,
 "nbformat_minor": 5
}
